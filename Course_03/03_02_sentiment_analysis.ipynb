{
  "cells": [
    {
      "cell_type": "code",
      "source": [
        "!pip install torch==1.13.1 torchvision==0.14.1 torchaudio==0.13.1\n",
        "!pip install tokenizers==0.15.2\n",
        "!pip install transformers==4.36.2\n",
        "!pip install --force-reinstall numpy==1.26.4"
      ],
      "outputs": [
        {
          "output_type": "stream",
          "name": "stdout",
          "text": "Requirement already satisfied: torch==1.13.1 in /anaconda/envs/azureml_py38/lib/python3.10/site-packages (1.13.1)\nRequirement already satisfied: torchvision==0.14.1 in /anaconda/envs/azureml_py38/lib/python3.10/site-packages (0.14.1)\nRequirement already satisfied: torchaudio==0.13.1 in /anaconda/envs/azureml_py38/lib/python3.10/site-packages (0.13.1)\nRequirement already satisfied: typing-extensions in /anaconda/envs/azureml_py38/lib/python3.10/site-packages (from torch==1.13.1) (4.13.2)\nRequirement already satisfied: nvidia-cuda-nvrtc-cu11==11.7.99 in /anaconda/envs/azureml_py38/lib/python3.10/site-packages (from torch==1.13.1) (11.7.99)\nRequirement already satisfied: nvidia-cuda-runtime-cu11==11.7.99 in /anaconda/envs/azureml_py38/lib/python3.10/site-packages (from torch==1.13.1) (11.7.99)\nRequirement already satisfied: nvidia-cudnn-cu11==8.5.0.96 in /anaconda/envs/azureml_py38/lib/python3.10/site-packages (from torch==1.13.1) (8.5.0.96)\nRequirement already satisfied: nvidia-cublas-cu11==11.10.3.66 in /anaconda/envs/azureml_py38/lib/python3.10/site-packages (from torch==1.13.1) (11.10.3.66)\nRequirement already satisfied: pillow!=8.3.*,>=5.3.0 in /anaconda/envs/azureml_py38/lib/python3.10/site-packages (from torchvision==0.14.1) (9.2.0)\nRequirement already satisfied: requests in /anaconda/envs/azureml_py38/lib/python3.10/site-packages (from torchvision==0.14.1) (2.32.3)\nRequirement already satisfied: numpy in /anaconda/envs/azureml_py38/lib/python3.10/site-packages (from torchvision==0.14.1) (1.23.5)\nRequirement already satisfied: wheel in /anaconda/envs/azureml_py38/lib/python3.10/site-packages (from nvidia-cublas-cu11==11.10.3.66->torch==1.13.1) (0.45.1)\nRequirement already satisfied: setuptools in /anaconda/envs/azureml_py38/lib/python3.10/site-packages (from nvidia-cublas-cu11==11.10.3.66->torch==1.13.1) (75.8.0)\nRequirement already satisfied: certifi>=2017.4.17 in /anaconda/envs/azureml_py38/lib/python3.10/site-packages (from requests->torchvision==0.14.1) (2025.1.31)\nRequirement already satisfied: idna<4,>=2.5 in /anaconda/envs/azureml_py38/lib/python3.10/site-packages (from requests->torchvision==0.14.1) (3.10)\nRequirement already satisfied: charset-normalizer<4,>=2 in /anaconda/envs/azureml_py38/lib/python3.10/site-packages (from requests->torchvision==0.14.1) (3.4.1)\nRequirement already satisfied: urllib3<3,>=1.21.1 in /anaconda/envs/azureml_py38/lib/python3.10/site-packages (from requests->torchvision==0.14.1) (1.26.20)\nRequirement already satisfied: tokenizers==0.15.2 in /anaconda/envs/azureml_py38/lib/python3.10/site-packages (0.15.2)\nRequirement already satisfied: huggingface_hub<1.0,>=0.16.4 in /anaconda/envs/azureml_py38/lib/python3.10/site-packages (from tokenizers==0.15.2) (0.30.2)\nRequirement already satisfied: fsspec>=2023.5.0 in /anaconda/envs/azureml_py38/lib/python3.10/site-packages (from huggingface_hub<1.0,>=0.16.4->tokenizers==0.15.2) (2023.10.0)\nRequirement already satisfied: requests in /anaconda/envs/azureml_py38/lib/python3.10/site-packages (from huggingface_hub<1.0,>=0.16.4->tokenizers==0.15.2) (2.32.3)\nRequirement already satisfied: packaging>=20.9 in /anaconda/envs/azureml_py38/lib/python3.10/site-packages (from huggingface_hub<1.0,>=0.16.4->tokenizers==0.15.2) (25.0)\nRequirement already satisfied: pyyaml>=5.1 in /anaconda/envs/azureml_py38/lib/python3.10/site-packages (from huggingface_hub<1.0,>=0.16.4->tokenizers==0.15.2) (6.0.2)\nRequirement already satisfied: filelock in /anaconda/envs/azureml_py38/lib/python3.10/site-packages (from huggingface_hub<1.0,>=0.16.4->tokenizers==0.15.2) (3.18.0)\nRequirement already satisfied: tqdm>=4.42.1 in /anaconda/envs/azureml_py38/lib/python3.10/site-packages (from huggingface_hub<1.0,>=0.16.4->tokenizers==0.15.2) (4.67.1)\nRequirement already satisfied: typing-extensions>=3.7.4.3 in /anaconda/envs/azureml_py38/lib/python3.10/site-packages (from huggingface_hub<1.0,>=0.16.4->tokenizers==0.15.2) (4.13.2)\nRequirement already satisfied: certifi>=2017.4.17 in /anaconda/envs/azureml_py38/lib/python3.10/site-packages (from requests->huggingface_hub<1.0,>=0.16.4->tokenizers==0.15.2) (2025.1.31)\nRequirement already satisfied: charset-normalizer<4,>=2 in /anaconda/envs/azureml_py38/lib/python3.10/site-packages (from requests->huggingface_hub<1.0,>=0.16.4->tokenizers==0.15.2) (3.4.1)\nRequirement already satisfied: idna<4,>=2.5 in /anaconda/envs/azureml_py38/lib/python3.10/site-packages (from requests->huggingface_hub<1.0,>=0.16.4->tokenizers==0.15.2) (3.10)\nRequirement already satisfied: urllib3<3,>=1.21.1 in /anaconda/envs/azureml_py38/lib/python3.10/site-packages (from requests->huggingface_hub<1.0,>=0.16.4->tokenizers==0.15.2) (1.26.20)\nRequirement already satisfied: transformers==4.36.2 in /anaconda/envs/azureml_py38/lib/python3.10/site-packages (4.36.2)\nRequirement already satisfied: packaging>=20.0 in /anaconda/envs/azureml_py38/lib/python3.10/site-packages (from transformers==4.36.2) (25.0)\nRequirement already satisfied: numpy>=1.17 in /anaconda/envs/azureml_py38/lib/python3.10/site-packages (from transformers==4.36.2) (1.23.5)\nRequirement already satisfied: tokenizers<0.19,>=0.14 in /anaconda/envs/azureml_py38/lib/python3.10/site-packages (from transformers==4.36.2) (0.15.2)\nRequirement already satisfied: tqdm>=4.27 in /anaconda/envs/azureml_py38/lib/python3.10/site-packages (from transformers==4.36.2) (4.67.1)\nRequirement already satisfied: requests in /anaconda/envs/azureml_py38/lib/python3.10/site-packages (from transformers==4.36.2) (2.32.3)\nRequirement already satisfied: pyyaml>=5.1 in /anaconda/envs/azureml_py38/lib/python3.10/site-packages (from transformers==4.36.2) (6.0.2)\nRequirement already satisfied: huggingface-hub<1.0,>=0.19.3 in /anaconda/envs/azureml_py38/lib/python3.10/site-packages (from transformers==4.36.2) (0.30.2)\nRequirement already satisfied: regex!=2019.12.17 in /anaconda/envs/azureml_py38/lib/python3.10/site-packages (from transformers==4.36.2) (2024.11.6)\nRequirement already satisfied: filelock in /anaconda/envs/azureml_py38/lib/python3.10/site-packages (from transformers==4.36.2) (3.18.0)\nRequirement already satisfied: safetensors>=0.3.1 in /anaconda/envs/azureml_py38/lib/python3.10/site-packages (from transformers==4.36.2) (0.5.3)\nRequirement already satisfied: fsspec>=2023.5.0 in /anaconda/envs/azureml_py38/lib/python3.10/site-packages (from huggingface-hub<1.0,>=0.19.3->transformers==4.36.2) (2023.10.0)\nRequirement already satisfied: typing-extensions>=3.7.4.3 in /anaconda/envs/azureml_py38/lib/python3.10/site-packages (from huggingface-hub<1.0,>=0.19.3->transformers==4.36.2) (4.13.2)\nRequirement already satisfied: urllib3<3,>=1.21.1 in /anaconda/envs/azureml_py38/lib/python3.10/site-packages (from requests->transformers==4.36.2) (1.26.20)\nRequirement already satisfied: idna<4,>=2.5 in /anaconda/envs/azureml_py38/lib/python3.10/site-packages (from requests->transformers==4.36.2) (3.10)\nRequirement already satisfied: certifi>=2017.4.17 in /anaconda/envs/azureml_py38/lib/python3.10/site-packages (from requests->transformers==4.36.2) (2025.1.31)\nRequirement already satisfied: charset-normalizer<4,>=2 in /anaconda/envs/azureml_py38/lib/python3.10/site-packages (from requests->transformers==4.36.2) (3.4.1)\nCollecting numpy==1.26.4\n  Using cached numpy-1.26.4-cp310-cp310-manylinux_2_17_x86_64.manylinux2014_x86_64.whl (18.2 MB)\nInstalling collected packages: numpy\n  Attempting uninstall: numpy\n    Found existing installation: numpy 1.23.5\n    Uninstalling numpy-1.23.5:\n      Successfully uninstalled numpy-1.23.5\n\u001b[31mERROR: pip's dependency resolver does not currently take into account all the packages that are installed. This behaviour is the source of the following dependency conflicts.\npandas-ml 0.6.1 requires enum34, which is not installed.\nscikit-image 0.25.0 requires pillow>=10.1, but you have pillow 9.2.0 which is incompatible.\nscikit-image 0.25.0 requires scipy>=1.11.2, but you have scipy 1.11.0 which is incompatible.\nresponsibleai 0.36.0 requires networkx<=2.5, but you have networkx 3.4 which is incompatible.\nresponsibleai 0.36.0 requires numpy<=1.26.2,>=1.17.2, but you have numpy 1.26.4 which is incompatible.\nraiwidgets 0.36.0 requires numpy<=1.26.2,>=1.17.2, but you have numpy 1.26.4 which is incompatible.\nnumba 0.56.4 requires numpy<1.24,>=1.18, but you have numpy 1.26.4 which is incompatible.\ndask-sql 2024.5.0 requires dask[dataframe]>=2024.4.1, but you have dask 2023.2.0 which is incompatible.\ndask-sql 2024.5.0 requires distributed>=2024.4.1, but you have distributed 2023.2.0 which is incompatible.\ndask-expr 1.1.10 requires dask==2024.8.0, but you have dask 2023.2.0 which is incompatible.\ndask-expr 1.1.10 requires pandas>=2, but you have pandas 1.5.3 which is incompatible.\nazureml-training-tabular 1.60.0 requires numpy<=1.23.5,>=1.16.0; python_version >= \"3.8\", but you have numpy 1.26.4 which is incompatible.\nazureml-training-tabular 1.60.0 requires scipy<1.11.0,>=1.0.0, but you have scipy 1.11.0 which is incompatible.\nazureml-train-automl-runtime 1.60.0 requires numpy<=1.23.5,>=1.16.0; python_version >= \"3.8\", but you have numpy 1.26.4 which is incompatible.\nazureml-interpret 1.60.0 requires numpy<=1.23.5; python_version >= \"3.8\", but you have numpy 1.26.4 which is incompatible.\nazureml-dataset-runtime 1.60.0 requires numpy!=1.19.3,<1.24; sys_platform == \"linux\", but you have numpy 1.26.4 which is incompatible.\nazureml-automl-runtime 1.60.0 requires numpy<=1.23.5,>=1.16.0; python_version >= \"3.8\", but you have numpy 1.26.4 which is incompatible.\nazureml-automl-dnn-nlp 1.60.0 requires torch==2.2.2, but you have torch 1.13.1 which is incompatible.\u001b[0m\u001b[31m\n\u001b[0mSuccessfully installed numpy-1.26.4\n"
        }
      ],
      "execution_count": 1,
      "metadata": {
        "gather": {
          "logged": 1749680851893
        }
      }
    },
    {
      "cell_type": "code",
      "source": [
        "from transformers import pipeline\n",
        "\n",
        "# Initialize sentiment analyzer with specific model to avoid downloading issues\n",
        "sentiment_analyzer = pipeline(\n",
        "    \"sentiment-analysis\",\n",
        "    model=\"distilbert-base-uncased-finetuned-sst-2-english\"\n",
        ")\n",
        "\n",
        "print(\"Sentiment analysis model loaded successfully!\")"
      ],
      "outputs": [
        {
          "output_type": "stream",
          "name": "stdout",
          "text": "Sentiment analysis model loaded successfully!\n"
        }
      ],
      "execution_count": 3,
      "metadata": {
        "gather": {
          "logged": 1749681649924
        }
      }
    },
    {
      "cell_type": "code",
      "source": [
        "# Sample texts for sentiment analysis\n",
        "texts = [\n",
        "    \"I love this product! It's amazing.\",\n",
        "    \"The service was terrible and I'm very disappointed.\",\n",
        "    \"It's okay, not great but not bad either.\"\n",
        "]\n",
        "\n",
        "# Analyze the sentiment of each text\n",
        "for text in texts:\n",
        "    result = sentiment_analyzer(text)\n",
        "    print(f\"Text: {text}\")\n",
        "    print(f\"Sentiment: {result[0]['label']}\")\n",
        "    print(f\"Confidence: {result[0]['score']:.2f}\")\n",
        "    print()  # Empty line for readability"
      ],
      "outputs": [
        {
          "output_type": "stream",
          "name": "stdout",
          "text": "Text: I love this product! It's amazing.\nSentiment: POSITIVE\nConfidence: 1.00\n\nText: The service was terrible and I'm very disappointed.\nSentiment: NEGATIVE\nConfidence: 1.00\n\nText: It's okay, not great but not bad either.\nSentiment: POSITIVE\nConfidence: 1.00\n\n"
        }
      ],
      "execution_count": 4,
      "metadata": {
        "gather": {
          "logged": 1749681652638
        }
      }
    },
    {
      "cell_type": "code",
      "source": [
        "# Accept user input for custom sentiment analysis\n",
        "custom_text = input(\"Enter a sentence for sentiment analysis: \")\n",
        "\n",
        "# Analyze the sentiment\n",
        "result = sentiment_analyzer(custom_text)\n",
        "\n",
        "print(f\"\\nSentiment: {result[0]['label']}\")\n",
        "print(f\"Confidence: {result[0]['score']:.2f}\")"
      ],
      "outputs": [
        {
          "output_type": "stream",
          "name": "stdout",
          "text": "\nSentiment: NEGATIVE\nConfidence: 1.00\n"
        }
      ],
      "execution_count": 5,
      "metadata": {
        "gather": {
          "logged": 1749681662712
        }
      }
    },
    {
      "cell_type": "code",
      "source": [
        "# Allow the model to process a longer paragraph of text\n",
        "long_text = \"\"\"\n",
        "The product is good overall, but there are some issues with battery life. \n",
        "I wish it lasted longer. However, the design is sleek, and I’m happy with the performance so far.\n",
        "\"\"\"\n",
        "result = sentiment_analyzer(long_text)\n",
        "for res in result:\n",
        "    print(f\"Sentiment: {res['label']}, Confidence: {res['score']:.2f}\")"
      ],
      "outputs": [
        {
          "output_type": "stream",
          "name": "stdout",
          "text": "Sentiment: POSITIVE, Confidence: 1.00\n"
        }
      ],
      "execution_count": 6,
      "metadata": {
        "gather": {
          "logged": 1749681665590
        }
      }
    }
  ],
  "metadata": {
    "kernelspec": {
      "name": "python38-azureml",
      "language": "python",
      "display_name": "Python 3.10 - AzureML"
    },
    "language_info": {
      "name": "python",
      "version": "3.10.11",
      "mimetype": "text/x-python",
      "codemirror_mode": {
        "name": "ipython",
        "version": 3
      },
      "pygments_lexer": "ipython3",
      "nbconvert_exporter": "python",
      "file_extension": ".py"
    },
    "microsoft": {
      "ms_spell_check": {
        "ms_spell_check_language": "en"
      },
      "host": {
        "AzureML": {
          "notebookHasBeenCompleted": true
        }
      }
    },
    "kernel_info": {
      "name": "python38-azureml"
    },
    "nteract": {
      "version": "nteract-front-end@1.0.0"
    }
  },
  "nbformat": 4,
  "nbformat_minor": 2
}