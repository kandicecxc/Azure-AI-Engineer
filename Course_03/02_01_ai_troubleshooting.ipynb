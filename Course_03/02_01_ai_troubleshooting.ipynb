{
  "cells": [
    {
      "cell_type": "markdown",
      "source": [
        "# AI Trouble shooting"
      ],
      "metadata": {
        "nteract": {
          "transient": {
            "deleting": false
          }
        }
      }
    },
    {
      "cell_type": "code",
      "source": [
        "# Install necessary libraries\n",
        "!pip install spacy transformers\n",
        "!pip install tf-keras"
      ],
      "outputs": [
        {
          "output_type": "stream",
          "name": "stdout",
          "text": "Requirement already satisfied: spacy in /anaconda/envs/azureml_py38/lib/python3.10/site-packages (3.7.4)\nRequirement already satisfied: transformers in /anaconda/envs/azureml_py38/lib/python3.10/site-packages (4.41.1)\nRequirement already satisfied: wasabi<1.2.0,>=0.9.1 in /anaconda/envs/azureml_py38/lib/python3.10/site-packages (from spacy) (1.1.3)\nRequirement already satisfied: cymem<2.1.0,>=2.0.2 in /anaconda/envs/azureml_py38/lib/python3.10/site-packages (from spacy) (2.0.11)\nRequirement already satisfied: weasel<0.4.0,>=0.1.0 in /anaconda/envs/azureml_py38/lib/python3.10/site-packages (from spacy) (0.3.4)\nRequirement already satisfied: thinc<8.3.0,>=8.2.2 in /anaconda/envs/azureml_py38/lib/python3.10/site-packages (from spacy) (8.2.5)\nRequirement already satisfied: srsly<3.0.0,>=2.4.3 in /anaconda/envs/azureml_py38/lib/python3.10/site-packages (from spacy) (2.5.1)\nRequirement already satisfied: pydantic!=1.8,!=1.8.1,<3.0.0,>=1.7.4 in /anaconda/envs/azureml_py38/lib/python3.10/site-packages (from spacy) (2.9.2)\nRequirement already satisfied: spacy-legacy<3.1.0,>=3.0.11 in /anaconda/envs/azureml_py38/lib/python3.10/site-packages (from spacy) (3.0.12)\nRequirement already satisfied: typer<0.10.0,>=0.3.0 in /anaconda/envs/azureml_py38/lib/python3.10/site-packages (from spacy) (0.4.2)\nRequirement already satisfied: requests<3.0.0,>=2.13.0 in /anaconda/envs/azureml_py38/lib/python3.10/site-packages (from spacy) (2.32.3)\nRequirement already satisfied: jinja2 in /anaconda/envs/azureml_py38/lib/python3.10/site-packages (from spacy) (3.1.6)\nRequirement already satisfied: murmurhash<1.1.0,>=0.28.0 in /anaconda/envs/azureml_py38/lib/python3.10/site-packages (from spacy) (1.0.12)\nRequirement already satisfied: preshed<3.1.0,>=3.0.2 in /anaconda/envs/azureml_py38/lib/python3.10/site-packages (from spacy) (3.0.9)\nRequirement already satisfied: spacy-loggers<2.0.0,>=1.0.0 in /anaconda/envs/azureml_py38/lib/python3.10/site-packages (from spacy) (1.0.5)\nRequirement already satisfied: langcodes<4.0.0,>=3.2.0 in /anaconda/envs/azureml_py38/lib/python3.10/site-packages (from spacy) (3.5.0)\nRequirement already satisfied: setuptools in /anaconda/envs/azureml_py38/lib/python3.10/site-packages (from spacy) (75.8.0)\nRequirement already satisfied: catalogue<2.1.0,>=2.0.6 in /anaconda/envs/azureml_py38/lib/python3.10/site-packages (from spacy) (2.0.10)\nRequirement already satisfied: smart-open<7.0.0,>=5.2.1 in /anaconda/envs/azureml_py38/lib/python3.10/site-packages (from spacy) (6.4.0)\nRequirement already satisfied: tqdm<5.0.0,>=4.38.0 in /anaconda/envs/azureml_py38/lib/python3.10/site-packages (from spacy) (4.67.1)\nRequirement already satisfied: numpy>=1.19.0 in /anaconda/envs/azureml_py38/lib/python3.10/site-packages (from spacy) (1.23.5)\nRequirement already satisfied: packaging>=20.0 in /anaconda/envs/azureml_py38/lib/python3.10/site-packages (from spacy) (25.0)\nRequirement already satisfied: filelock in /anaconda/envs/azureml_py38/lib/python3.10/site-packages (from transformers) (3.18.0)\nRequirement already satisfied: safetensors>=0.4.1 in /anaconda/envs/azureml_py38/lib/python3.10/site-packages (from transformers) (0.5.3)\nRequirement already satisfied: regex!=2019.12.17 in /anaconda/envs/azureml_py38/lib/python3.10/site-packages (from transformers) (2024.11.6)\nRequirement already satisfied: pyyaml>=5.1 in /anaconda/envs/azureml_py38/lib/python3.10/site-packages (from transformers) (6.0.2)\nRequirement already satisfied: tokenizers<0.20,>=0.19 in /anaconda/envs/azureml_py38/lib/python3.10/site-packages (from transformers) (0.19.1)\nRequirement already satisfied: huggingface-hub<1.0,>=0.23.0 in /anaconda/envs/azureml_py38/lib/python3.10/site-packages (from transformers) (0.30.2)\nRequirement already satisfied: fsspec>=2023.5.0 in /anaconda/envs/azureml_py38/lib/python3.10/site-packages (from huggingface-hub<1.0,>=0.23.0->transformers) (2023.10.0)\nRequirement already satisfied: typing-extensions>=3.7.4.3 in /anaconda/envs/azureml_py38/lib/python3.10/site-packages (from huggingface-hub<1.0,>=0.23.0->transformers) (4.13.2)\nRequirement already satisfied: language-data>=1.2 in /anaconda/envs/azureml_py38/lib/python3.10/site-packages (from langcodes<4.0.0,>=3.2.0->spacy) (1.3.0)\nRequirement already satisfied: pydantic-core==2.23.4 in /anaconda/envs/azureml_py38/lib/python3.10/site-packages (from pydantic!=1.8,!=1.8.1,<3.0.0,>=1.7.4->spacy) (2.23.4)\nRequirement already satisfied: annotated-types>=0.6.0 in /anaconda/envs/azureml_py38/lib/python3.10/site-packages (from pydantic!=1.8,!=1.8.1,<3.0.0,>=1.7.4->spacy) (0.7.0)\nRequirement already satisfied: certifi>=2017.4.17 in /anaconda/envs/azureml_py38/lib/python3.10/site-packages (from requests<3.0.0,>=2.13.0->spacy) (2025.1.31)\nRequirement already satisfied: idna<4,>=2.5 in /anaconda/envs/azureml_py38/lib/python3.10/site-packages (from requests<3.0.0,>=2.13.0->spacy) (3.10)\nRequirement already satisfied: urllib3<3,>=1.21.1 in /anaconda/envs/azureml_py38/lib/python3.10/site-packages (from requests<3.0.0,>=2.13.0->spacy) (1.26.20)\nRequirement already satisfied: charset-normalizer<4,>=2 in /anaconda/envs/azureml_py38/lib/python3.10/site-packages (from requests<3.0.0,>=2.13.0->spacy) (3.4.1)\nRequirement already satisfied: blis<0.8.0,>=0.7.8 in /anaconda/envs/azureml_py38/lib/python3.10/site-packages (from thinc<8.3.0,>=8.2.2->spacy) (0.7.11)\nRequirement already satisfied: confection<1.0.0,>=0.0.1 in /anaconda/envs/azureml_py38/lib/python3.10/site-packages (from thinc<8.3.0,>=8.2.2->spacy) (0.1.5)\nRequirement already satisfied: click<9.0.0,>=7.1.1 in /anaconda/envs/azureml_py38/lib/python3.10/site-packages (from typer<0.10.0,>=0.3.0->spacy) (8.1.8)\nRequirement already satisfied: cloudpathlib<0.17.0,>=0.7.0 in /anaconda/envs/azureml_py38/lib/python3.10/site-packages (from weasel<0.4.0,>=0.1.0->spacy) (0.16.0)\nRequirement already satisfied: MarkupSafe>=2.0 in /anaconda/envs/azureml_py38/lib/python3.10/site-packages (from jinja2->spacy) (2.0.1)\nRequirement already satisfied: marisa-trie>=1.1.0 in /anaconda/envs/azureml_py38/lib/python3.10/site-packages (from language-data>=1.2->langcodes<4.0.0,>=3.2.0->spacy) (1.2.1)\nCollecting tf-keras\n  Downloading tf_keras-2.19.0-py3-none-any.whl (1.7 MB)\n\u001b[2K     \u001b[90m━━━━━━━━━━━━━━━━━━━━━━━━━━━━━━━━━━━━━━━━\u001b[0m \u001b[32m1.7/1.7 MB\u001b[0m \u001b[31m37.2 MB/s\u001b[0m eta \u001b[36m0:00:00\u001b[0m00:01\u001b[0m\n\u001b[?25hRequirement already satisfied: tensorflow<2.20,>=2.19 in /anaconda/envs/azureml_py38/lib/python3.10/site-packages (from tf-keras) (2.19.0)\nRequirement already satisfied: google-pasta>=0.1.1 in /anaconda/envs/azureml_py38/lib/python3.10/site-packages (from tensorflow<2.20,>=2.19->tf-keras) (0.2.0)\nRequirement already satisfied: setuptools in /anaconda/envs/azureml_py38/lib/python3.10/site-packages (from tensorflow<2.20,>=2.19->tf-keras) (75.8.0)\nRequirement already satisfied: libclang>=13.0.0 in /anaconda/envs/azureml_py38/lib/python3.10/site-packages (from tensorflow<2.20,>=2.19->tf-keras) (18.1.1)\nCollecting numpy<2.2.0,>=1.26.0\n  Downloading numpy-2.1.3-cp310-cp310-manylinux_2_17_x86_64.manylinux2014_x86_64.whl (16.3 MB)\n\u001b[2K     \u001b[90m━━━━━━━━━━━━━━━━━━━━━━━━━━━━━━━━━━━━━━━━\u001b[0m \u001b[32m16.3/16.3 MB\u001b[0m \u001b[31m73.9 MB/s\u001b[0m eta \u001b[36m0:00:00\u001b[0m00:01\u001b[0m00:01\u001b[0m\n\u001b[?25hRequirement already satisfied: six>=1.12.0 in /anaconda/envs/azureml_py38/lib/python3.10/site-packages (from tensorflow<2.20,>=2.19->tf-keras) (1.17.0)\nRequirement already satisfied: gast!=0.5.0,!=0.5.1,!=0.5.2,>=0.2.1 in /anaconda/envs/azureml_py38/lib/python3.10/site-packages (from tensorflow<2.20,>=2.19->tf-keras) (0.6.0)\nRequirement already satisfied: ml-dtypes<1.0.0,>=0.5.1 in /anaconda/envs/azureml_py38/lib/python3.10/site-packages (from tensorflow<2.20,>=2.19->tf-keras) (0.5.1)\nRequirement already satisfied: packaging in /anaconda/envs/azureml_py38/lib/python3.10/site-packages (from tensorflow<2.20,>=2.19->tf-keras) (25.0)\nRequirement already satisfied: wrapt>=1.11.0 in /anaconda/envs/azureml_py38/lib/python3.10/site-packages (from tensorflow<2.20,>=2.19->tf-keras) (1.14.1)\nRequirement already satisfied: astunparse>=1.6.0 in /anaconda/envs/azureml_py38/lib/python3.10/site-packages (from tensorflow<2.20,>=2.19->tf-keras) (1.6.3)\nRequirement already satisfied: absl-py>=1.0.0 in /anaconda/envs/azureml_py38/lib/python3.10/site-packages (from tensorflow<2.20,>=2.19->tf-keras) (2.2.2)\nRequirement already satisfied: termcolor>=1.1.0 in /anaconda/envs/azureml_py38/lib/python3.10/site-packages (from tensorflow<2.20,>=2.19->tf-keras) (3.0.1)\nRequirement already satisfied: grpcio<2.0,>=1.24.3 in /anaconda/envs/azureml_py38/lib/python3.10/site-packages (from tensorflow<2.20,>=2.19->tf-keras) (1.71.0)\nRequirement already satisfied: tensorboard~=2.19.0 in /anaconda/envs/azureml_py38/lib/python3.10/site-packages (from tensorflow<2.20,>=2.19->tf-keras) (2.19.0)\nRequirement already satisfied: requests<3,>=2.21.0 in /anaconda/envs/azureml_py38/lib/python3.10/site-packages (from tensorflow<2.20,>=2.19->tf-keras) (2.32.3)\nRequirement already satisfied: tensorflow-io-gcs-filesystem>=0.23.1 in /anaconda/envs/azureml_py38/lib/python3.10/site-packages (from tensorflow<2.20,>=2.19->tf-keras) (0.37.1)\nRequirement already satisfied: h5py>=3.11.0 in /anaconda/envs/azureml_py38/lib/python3.10/site-packages (from tensorflow<2.20,>=2.19->tf-keras) (3.13.0)\nRequirement already satisfied: protobuf!=4.21.0,!=4.21.1,!=4.21.2,!=4.21.3,!=4.21.4,!=4.21.5,<6.0.0dev,>=3.20.3 in /anaconda/envs/azureml_py38/lib/python3.10/site-packages (from tensorflow<2.20,>=2.19->tf-keras) (4.25.6)\nRequirement already satisfied: opt-einsum>=2.3.2 in /anaconda/envs/azureml_py38/lib/python3.10/site-packages (from tensorflow<2.20,>=2.19->tf-keras) (3.4.0)\nRequirement already satisfied: flatbuffers>=24.3.25 in /anaconda/envs/azureml_py38/lib/python3.10/site-packages (from tensorflow<2.20,>=2.19->tf-keras) (25.2.10)\nRequirement already satisfied: keras>=3.5.0 in /anaconda/envs/azureml_py38/lib/python3.10/site-packages (from tensorflow<2.20,>=2.19->tf-keras) (3.9.2)\nRequirement already satisfied: typing-extensions>=3.6.6 in /anaconda/envs/azureml_py38/lib/python3.10/site-packages (from tensorflow<2.20,>=2.19->tf-keras) (4.13.2)\nRequirement already satisfied: wheel<1.0,>=0.23.0 in /anaconda/envs/azureml_py38/lib/python3.10/site-packages (from astunparse>=1.6.0->tensorflow<2.20,>=2.19->tf-keras) (0.45.1)\nRequirement already satisfied: rich in /anaconda/envs/azureml_py38/lib/python3.10/site-packages (from keras>=3.5.0->tensorflow<2.20,>=2.19->tf-keras) (14.0.0)\nRequirement already satisfied: optree in /anaconda/envs/azureml_py38/lib/python3.10/site-packages (from keras>=3.5.0->tensorflow<2.20,>=2.19->tf-keras) (0.15.0)\nRequirement already satisfied: namex in /anaconda/envs/azureml_py38/lib/python3.10/site-packages (from keras>=3.5.0->tensorflow<2.20,>=2.19->tf-keras) (0.0.9)\nRequirement already satisfied: charset-normalizer<4,>=2 in /anaconda/envs/azureml_py38/lib/python3.10/site-packages (from requests<3,>=2.21.0->tensorflow<2.20,>=2.19->tf-keras) (3.4.1)\nRequirement already satisfied: urllib3<3,>=1.21.1 in /anaconda/envs/azureml_py38/lib/python3.10/site-packages (from requests<3,>=2.21.0->tensorflow<2.20,>=2.19->tf-keras) (1.26.20)\nRequirement already satisfied: idna<4,>=2.5 in /anaconda/envs/azureml_py38/lib/python3.10/site-packages (from requests<3,>=2.21.0->tensorflow<2.20,>=2.19->tf-keras) (3.10)\nRequirement already satisfied: certifi>=2017.4.17 in /anaconda/envs/azureml_py38/lib/python3.10/site-packages (from requests<3,>=2.21.0->tensorflow<2.20,>=2.19->tf-keras) (2025.1.31)\nRequirement already satisfied: tensorboard-data-server<0.8.0,>=0.7.0 in /anaconda/envs/azureml_py38/lib/python3.10/site-packages (from tensorboard~=2.19.0->tensorflow<2.20,>=2.19->tf-keras) (0.7.2)\nRequirement already satisfied: markdown>=2.6.8 in /anaconda/envs/azureml_py38/lib/python3.10/site-packages (from tensorboard~=2.19.0->tensorflow<2.20,>=2.19->tf-keras) (3.8)\nRequirement already satisfied: werkzeug>=1.0.1 in /anaconda/envs/azureml_py38/lib/python3.10/site-packages (from tensorboard~=2.19.0->tensorflow<2.20,>=2.19->tf-keras) (3.1.3)\nCollecting MarkupSafe>=2.1.1\n  Downloading MarkupSafe-3.0.2-cp310-cp310-manylinux_2_17_x86_64.manylinux2014_x86_64.whl (20 kB)\nRequirement already satisfied: pygments<3.0.0,>=2.13.0 in /anaconda/envs/azureml_py38/lib/python3.10/site-packages (from rich->keras>=3.5.0->tensorflow<2.20,>=2.19->tf-keras) (2.19.1)\nRequirement already satisfied: markdown-it-py>=2.2.0 in /anaconda/envs/azureml_py38/lib/python3.10/site-packages (from rich->keras>=3.5.0->tensorflow<2.20,>=2.19->tf-keras) (3.0.0)\nRequirement already satisfied: mdurl~=0.1 in /anaconda/envs/azureml_py38/lib/python3.10/site-packages (from markdown-it-py>=2.2.0->rich->keras>=3.5.0->tensorflow<2.20,>=2.19->tf-keras) (0.1.2)\nInstalling collected packages: numpy, MarkupSafe, tf-keras\n  Attempting uninstall: numpy\n    Found existing installation: numpy 1.23.5\n    Uninstalling numpy-1.23.5:\n      Successfully uninstalled numpy-1.23.5\n  Attempting uninstall: MarkupSafe\n    Found existing installation: MarkupSafe 2.0.1\n    Uninstalling MarkupSafe-2.0.1:\n      Successfully uninstalled MarkupSafe-2.0.1\n\u001b[31mERROR: pip's dependency resolver does not currently take into account all the packages that are installed. This behaviour is the source of the following dependency conflicts.\npandas-ml 0.6.1 requires enum34, which is not installed.\ntorchvision 0.21.0 requires torch==2.6.0, but you have torch 2.7.1 which is incompatible.\nthinc 8.2.5 requires numpy<2.0.0,>=1.19.0; python_version >= \"3.9\", but you have numpy 2.1.3 which is incompatible.\nscipy 1.11.0 requires numpy<1.28.0,>=1.21.6, but you have numpy 2.1.3 which is incompatible.\nscikit-image 0.25.0 requires pillow>=10.1, but you have pillow 9.2.0 which is incompatible.\nscikit-image 0.25.0 requires scipy>=1.11.2, but you have scipy 1.11.0 which is incompatible.\nresponsibleai 0.36.0 requires networkx<=2.5, but you have networkx 3.4 which is incompatible.\nresponsibleai 0.36.0 requires numpy<=1.26.2,>=1.17.2, but you have numpy 2.1.3 which is incompatible.\nraiwidgets 0.36.0 requires numpy<=1.26.2,>=1.17.2, but you have numpy 2.1.3 which is incompatible.\nnumba 0.56.4 requires numpy<1.24,>=1.18, but you have numpy 2.1.3 which is incompatible.\nml-wrappers 0.5.6 requires numpy<2.0.0, but you have numpy 2.1.3 which is incompatible.\njupyter-resource-usage 0.7.2 requires psutil~=5.6, but you have psutil 5.2.2 which is incompatible.\nerroranalysis 0.5.5 requires numpy<2.0.0,>=1.17.2, but you have numpy 2.1.3 which is incompatible.\neconml 0.15.1 requires numpy<2, but you have numpy 2.1.3 which is incompatible.\ndistributed 2023.2.0 requires psutil>=5.7.0, but you have psutil 5.2.2 which is incompatible.\ndask-sql 2024.5.0 requires dask[dataframe]>=2024.4.1, but you have dask 2023.2.0 which is incompatible.\ndask-sql 2024.5.0 requires distributed>=2024.4.1, but you have distributed 2023.2.0 which is incompatible.\ndask-expr 1.1.10 requires dask==2024.8.0, but you have dask 2023.2.0 which is incompatible.\ndask-expr 1.1.10 requires pandas>=2, but you have pandas 1.5.3 which is incompatible.\nazureml-training-tabular 1.60.0 requires numpy<=1.23.5,>=1.16.0; python_version >= \"3.8\", but you have numpy 2.1.3 which is incompatible.\nazureml-training-tabular 1.60.0 requires scipy<1.11.0,>=1.0.0, but you have scipy 1.11.0 which is incompatible.\nazureml-train-automl-runtime 1.60.0 requires numpy<=1.23.5,>=1.16.0; python_version >= \"3.8\", but you have numpy 2.1.3 which is incompatible.\nazureml-opendatasets 1.60.0 requires numpy<=2.0.0,>=1.16.0, but you have numpy 2.1.3 which is incompatible.\nazureml-interpret 1.60.0 requires numpy<=1.23.5; python_version >= \"3.8\", but you have numpy 2.1.3 which is incompatible.\nazureml-dataset-runtime 1.60.0 requires numpy!=1.19.3,<1.24; sys_platform == \"linux\", but you have numpy 2.1.3 which is incompatible.\nazureml-automl-runtime 1.60.0 requires numpy<=1.23.5,>=1.16.0; python_version >= \"3.8\", but you have numpy 2.1.3 which is incompatible.\nazureml-automl-dnn-nlp 1.60.0 requires torch==2.2.2, but you have torch 2.7.1 which is incompatible.\naccelerate 0.33.0 requires numpy<2.0.0,>=1.17, but you have numpy 2.1.3 which is incompatible.\u001b[0m\u001b[31m\n\u001b[0mSuccessfully installed MarkupSafe-3.0.2 numpy-2.1.3 tf-keras-2.19.0\n"
        }
      ],
      "execution_count": 7,
      "metadata": {
        "gather": {
          "logged": 1749678590606
        }
      }
    },
    {
      "cell_type": "code",
      "source": [
        "#Note that the below entries are samples; you will want to have at least five entries in your knowledge base\n",
        "knowledge_base = {\n",
        "    \"slow_internet\": {\n",
        "        \"symptom\": \"My internet is very slow.\",\n",
        "        \"solution\": \"Try restarting your router and checking your connection settings.\"\n",
        "    },\n",
        "    \"app_crashing\": {\n",
        "        \"symptom\": \"The app keeps crashing on startup.\",\n",
        "        \"solution\": \"Update the app to the latest version and restart your device.\"\n",
        "    }\n",
        "}"
      ],
      "outputs": [],
      "execution_count": 13,
      "metadata": {
        "gather": {
          "logged": 1749678817564
        }
      }
    },
    {
      "cell_type": "code",
      "source": [
        "import json\n",
        "from transformers import pipeline\n",
        "\n",
        "# Load knowledge base\n",
        "# with open('troubleshooting_knowledge_base.json', 'r') as f:\n",
        "#     knowledge_base = json.load(f)\n",
        "\n",
        "# Initialize a simple NLP model\n",
        "nlp = pipeline('question-answering')\n",
        "\n",
        "# Get user input\n",
        "user_input = input(\"Please describe your problem: \")\n",
        "\n",
        "# Search knowledge base for a simple text-based match\n",
        "for issue, details in knowledge_base.items():\n",
        "    if details[\"symptom\"].lower() in user_input.lower():\n",
        "        print(f\"Possible solution: {details['solution']}\")\n",
        "        break\n",
        "else:\n",
        "    print(\"No matching issue found in the knowledge base.\")"
      ],
      "outputs": [
        {
          "output_type": "stream",
          "name": "stderr",
          "text": "No model was supplied, defaulted to distilbert/distilbert-base-cased-distilled-squad and revision 626af31 (https://huggingface.co/distilbert/distilbert-base-cased-distilled-squad).\nUsing a pipeline without specifying a model name and revision in production is not recommended.\n"
        },
        {
          "output_type": "stream",
          "name": "stdout",
          "text": "Possible solution: Try restarting your router and checking your connection settings.\n"
        }
      ],
      "execution_count": 20,
      "metadata": {
        "gather": {
          "logged": 1749679049897
        }
      }
    },
    {
      "cell_type": "code",
      "source": [
        "def diagnose_network_issue():\n",
        "    print(\"Have you restarted your router?\")\n",
        "    response = input(\"Yes/No: \").strip().lower()\n",
        "    if response == \"no\":\n",
        "        print(\"Please restart your router and check again.\")\n",
        "    else:\n",
        "        print(\"Try resetting your network settings or contacting your provider.\")\n",
        "\n",
        "# Trigger diagnostic logic if the issue is related to the network\n",
        "if \"internet\" in user_input.lower():\n",
        "    diagnose_network_issue()"
      ],
      "outputs": [
        {
          "output_type": "stream",
          "name": "stdout",
          "text": "Have you restarted your router?\nTry resetting your network settings or contacting your provider.\n"
        }
      ],
      "execution_count": 21,
      "metadata": {
        "gather": {
          "logged": 1749679162469
        }
      }
    },
    {
      "cell_type": "code",
      "source": [
        "def automate_fix(issue):\n",
        "    if issue == \"slow_internet\":\n",
        "        print(\"Resetting network settings...\")\n",
        "        # Simulated network reset\n",
        "        print(\"Network settings have been reset. Please check your connection.\")\n",
        "    else:\n",
        "        print(\"Automation is not available for this issue.\")\n",
        "\n",
        "# Simulate automatic fix\n",
        "if \"internet\" in user_input.lower():\n",
        "    automate_fix(\"slow_internet\")"
      ],
      "outputs": [
        {
          "output_type": "stream",
          "name": "stdout",
          "text": "Resetting network settings...\nNetwork settings have been reset. Please check your connection.\n"
        }
      ],
      "execution_count": 22,
      "metadata": {
        "gather": {
          "logged": 1749679185947
        }
      }
    },
    {
      "cell_type": "code",
      "source": [
        "def collect_feedback():\n",
        "    feedback = input(\"Did this solution resolve your issue? (Yes/No): \").strip().lower()\n",
        "    if feedback == \"yes\":\n",
        "        print(\"Great! Your feedback has been recorded.\")\n",
        "    else:\n",
        "        print(\"We're sorry the issue persists. We'll improve our solution based on your input.\")\n",
        "\n",
        "# Collect feedback after providing a solution\n",
        "collect_feedback()"
      ],
      "outputs": [
        {
          "output_type": "stream",
          "name": "stdout",
          "text": "We're sorry the issue persists. We'll improve our solution based on your input.\n"
        }
      ],
      "execution_count": 23,
      "metadata": {
        "gather": {
          "logged": 1749679206737
        }
      }
    },
    {
      "cell_type": "markdown",
      "source": [
        "# Designing an AI Agent"
      ],
      "metadata": {
        "nteract": {
          "transient": {
            "deleting": false
          }
        }
      }
    },
    {
      "cell_type": "code",
      "source": [
        "# Sample Knowledge Base for Network Troubleshooting\n",
        "knowledge_base = {\n",
        "\"restart_router\": \"Please restart your router and check if the problem persists.\",\n",
        "\"reset_network_settings\": \"Try resetting your network settings. Instructions are available in your system settings under 'Network Reset'.\",\n",
        "\"check_cables\": \"Ensure all network cables are securely connected.\",\n",
        "\"isp_contact\": \"If the issue continues, please contact your Internet Service Provider (ISP) for further assistance.\",\n",
        "\"clear_cache\": \"Clearing your browser cache can sometimes resolve connectivity issues.\"\n",
        "}\n",
        "\n",
        "def diagnose_network_issue():\n",
        "    print(\"Let's diagnose your network issue.\")\n",
        "    response = input(\"Have you tried restarting your router? (Yes/No): \").strip().lower()\n",
        "    if response == \"no\":\n",
        "        print(knowledge_base[\"restart_router\"])\n",
        "        return # Exit after suggesting a solution\n",
        "    response = input(\"Are all cables securely connected? (Yes/No): \").strip().lower()\n",
        "    if response == \"no\":\n",
        "        print(knowledge_base[\"check_cables\"])\n",
        "        return # Exit after suggesting a solution\n",
        "    response = input(\"Would you like to try resetting your network settings? (Yes/No): \").strip().lower()\n",
        "    if response == \"yes\":\n",
        "        print(knowledge_base[\"reset_network_settings\"])\n",
        "        return # Exit after suggesting a solution\n",
        "    response = input(\"Is this issue occurring in your browser? (Yes/No): \").strip().lower()\n",
        "    if response == \"yes\":\n",
        "        print(knowledge_base[\"clear_cache\"])\n",
        "    else:\n",
        "        print(knowledge_base[\"isp_contact\"])"
      ],
      "outputs": [],
      "execution_count": 26,
      "metadata": {
        "gather": {
          "logged": 1749679482799
        }
      }
    },
    {
      "cell_type": "code",
      "source": [
        "# Example of triggering diagnostic logic based on user input\n",
        "user_input = input(\"Please describe your issue: \").strip().lower()\n",
        "if \"network\" in user_input:\n",
        "    diagnose_network_issue()"
      ],
      "outputs": [
        {
          "output_type": "stream",
          "name": "stdout",
          "text": "Let's diagnose your network issue.\nIf the issue continues, please contact your Internet Service Provider (ISP) for further assistance.\n"
        }
      ],
      "execution_count": 28,
      "metadata": {
        "gather": {
          "logged": 1749679605168
        }
      }
    },
    {
      "cell_type": "code",
      "source": [
        "def automate_fix(issue):\n",
        "    if issue == \"network_issue\":\n",
        "        print(\"Attempting to reset your network settings automatically...\")\n",
        "        # Simulate network reset\n",
        "        print(\"Network settings have been reset. Please check your connection.\")\n",
        "    else:\n",
        "        print(\"Automatic fix is not available for this issue.\")\n",
        "\n",
        "# Simulate automated fix\n",
        "if \"network\" in user_input.lower():\n",
        "    automate_fix(\"network_issue\")"
      ],
      "outputs": [
        {
          "output_type": "stream",
          "name": "stdout",
          "text": "Attempting to reset your network settings automatically...\nNetwork settings have been reset. Please check your connection.\n"
        }
      ],
      "execution_count": 29,
      "metadata": {
        "gather": {
          "logged": 1749679614469
        }
      }
    }
  ],
  "metadata": {
    "kernelspec": {
      "name": "python38-azureml",
      "language": "python",
      "display_name": "Python 3.10 - AzureML"
    },
    "language_info": {
      "name": "python",
      "version": "3.10.11",
      "mimetype": "text/x-python",
      "codemirror_mode": {
        "name": "ipython",
        "version": 3
      },
      "pygments_lexer": "ipython3",
      "nbconvert_exporter": "python",
      "file_extension": ".py"
    },
    "microsoft": {
      "ms_spell_check": {
        "ms_spell_check_language": "en"
      },
      "host": {
        "AzureML": {
          "notebookHasBeenCompleted": true
        }
      }
    },
    "kernel_info": {
      "name": "python38-azureml"
    },
    "nteract": {
      "version": "nteract-front-end@1.0.0"
    }
  },
  "nbformat": 4,
  "nbformat_minor": 2
}