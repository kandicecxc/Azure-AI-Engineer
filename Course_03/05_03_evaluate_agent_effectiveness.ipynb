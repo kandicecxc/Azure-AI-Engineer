{
  "cells": [
    {
      "cell_type": "code",
      "source": [
        "import tensorflow as tf\n",
        "from tensorflow.keras.datasets import mnist\n",
        "\n",
        "# Load dataset\n",
        "(x_train, y_train), (x_test, y_test) = mnist.load_data()\n",
        "x_train, x_test = x_train / 255.0, x_test / 255.0\n",
        "\n",
        "# Build a simple model\n",
        "model = tf.keras.models.Sequential([\n",
        "    tf.keras.layers.Flatten(input_shape=(28, 28)),\n",
        "    tf.keras.layers.Dense(128, activation='relu'),\n",
        "    tf.keras.layers.Dropout(0.2),\n",
        "    tf.keras.layers.Dense(10, activation='softmax')\n",
        "])\n",
        "\n",
        "# Compile the model\n",
        "model.compile(optimizer='adam', loss='sparse_categorical_crossentropy', metrics=['accuracy'])\n",
        "\n",
        "# Train the model\n",
        "model.fit(x_train, y_train, epochs=5, validation_data=(x_test, y_test))"
      ],
      "outputs": [
        {
          "output_type": "stream",
          "name": "stderr",
          "text": "2025-06-14 03:44:54.284512: I tensorflow/core/util/port.cc:110] oneDNN custom operations are on. You may see slightly different numerical results due to floating-point round-off errors from different computation orders. To turn them off, set the environment variable `TF_ENABLE_ONEDNN_OPTS=0`.\n2025-06-14 03:44:54.286637: I tensorflow/tsl/cuda/cudart_stub.cc:28] Could not find cuda drivers on your machine, GPU will not be used.\n2025-06-14 03:44:54.336082: I tensorflow/tsl/cuda/cudart_stub.cc:28] Could not find cuda drivers on your machine, GPU will not be used.\n2025-06-14 03:44:54.336968: I tensorflow/core/platform/cpu_feature_guard.cc:182] This TensorFlow binary is optimized to use available CPU instructions in performance-critical operations.\nTo enable the following instructions: AVX2 AVX512F AVX512_VNNI FMA, in other operations, rebuild TensorFlow with the appropriate compiler flags.\n2025-06-14 03:44:55.297264: W tensorflow/compiler/tf2tensorrt/utils/py_utils.cc:38] TF-TRT Warning: Could not find TensorRT\n2025-06-14 03:44:56.765243: E tensorflow/compiler/xla/stream_executor/cuda/cuda_driver.cc:268] failed call to cuInit: CUDA_ERROR_NO_DEVICE: no CUDA-capable device is detected\n"
        },
        {
          "output_type": "stream",
          "name": "stdout",
          "text": "Epoch 1/5\n1875/1875 [==============================] - 4s 2ms/step - loss: 0.2970 - accuracy: 0.9143 - val_loss: 0.1391 - val_accuracy: 0.9576\b\b\b\b\b\b\b\b\b\b\b\b\b\b\b\b\b\b\b\b\b\b\b\b\b\b\b\b\b\b\b\b\b\b\b\b\b\b\b\b\b\b\b\b\b\b\nEpoch 2/5\n1875/1875 [==============================] - 4s 2ms/step - loss: 0.1431 - accuracy: 0.9577 - val_loss: 0.1010 - val_accuracy: 0.9687\b\b\b\b\b\b\b\b\b\b\b\b\b\b\b\b\b\b\b\b\b\b\b\b\b\b\b\b\b\b\b\b\b\b\b\b\b\b\b\b\nEpoch 3/5\n1875/1875 [==============================] - 4s 2ms/step - loss: 0.1081 - accuracy: 0.9671 - val_loss: 0.0930 - val_accuracy: 0.9718\b\b\b\b\b\b\b\b\b\b\b\b\b\b\b\b\b\b\b\b\b\b\b\b\b\b\b\b\b\b\b\b\b\b\b\b\b\b\b\b\nEpoch 4/5\n1875/1875 [==============================] - 4s 2ms/step - loss: 0.0876 - accuracy: 0.9727 - val_loss: 0.0825 - val_accuracy: 0.9747\b\b\b\b\b\b\b\b\b\b\b\b\b\b\b\b\b\b\b\b\b\b\b\b\b\b\b\b\b\b\b\b\b\b\b\b\b\b\b\b\b\b\nEpoch 5/5\n1875/1875 [==============================] - 4s 2ms/step - loss: 0.0752 - accuracy: 0.9765 - val_loss: 0.0741 - val_accuracy: 0.9778\b\b\b\b\b\b\b\b\b\b\b\b\b\b\b\b\b\b\b\b\b\b\b\b\b\b\b\b\b\b\b\b\b\b\b\b\b\b\b\b\n"
        },
        {
          "output_type": "execute_result",
          "execution_count": 1,
          "data": {
            "text/plain": "<keras.src.callbacks.History at 0x78c339311a30>"
          },
          "metadata": {}
        }
      ],
      "execution_count": 1,
      "metadata": {
        "gather": {
          "logged": 1749872720055
        }
      }
    },
    {
      "cell_type": "code",
      "source": [
        "from sklearn.metrics import accuracy_score, precision_score\n",
        "import numpy as np\n",
        "\n",
        "# Make predictions on the test set\n",
        "y_pred_probs = model.predict(x_test)\n",
        "y_pred = np.argmax(y_pred_probs, axis=1)\n",
        "\n",
        "# Calculate accuracy\n",
        "accuracy = accuracy_score(y_test, y_pred)\n",
        "print(f'Accuracy: {accuracy:.4f}')\n",
        "\n",
        "# Calculate precision (average='weighted' to handle multiple classes)\n",
        "precision = precision_score(y_test, y_pred, average='weighted')\n",
        "print(f'Precision: {precision:.4f}')"
      ],
      "outputs": [
        {
          "output_type": "stream",
          "name": "stdout",
          "text": "313/313 [==============================] - 0s 1ms/step\b\b\b\b\b\b\b\b\b\b\b\b\b\b\b\b\b\b\b\b\b\b\b\b\b\b\b\b\b\b\b\b\b\b\b\b\b\b\b\b\b\b\b\b\b\b\b\b\nAccuracy: 0.9778\nPrecision: 0.9778\n"
        }
      ],
      "execution_count": 2,
      "metadata": {
        "gather": {
          "logged": 1749872809291
        }
      }
    },
    {
      "cell_type": "code",
      "source": [
        "import psutil\n",
        "\n",
        "# Monitor resource usage\n",
        "cpu_usage = psutil.cpu_percent()\n",
        "memory_usage = psutil.virtual_memory().percent\n",
        "\n",
        "# for better results, measure CPU usage while inference is active,\n",
        "# and measure memory usage against a baseline before the model is loaded\n",
        "print(f\"CPU Usage: {cpu_usage}%\")\n",
        "print(f\"Memory Usage: {memory_usage}%\")"
      ],
      "outputs": [
        {
          "output_type": "stream",
          "name": "stdout",
          "text": "CPU Usage: 12.3%\nMemory Usage: 7.3%\n"
        }
      ],
      "execution_count": 3,
      "metadata": {
        "gather": {
          "logged": 1749872811003
        }
      }
    },
    {
      "cell_type": "code",
      "source": [
        "import numpy as np\n",
        "import time\n",
        "\n",
        "# Ensure correct shape before repeating\n",
        "print(\"Original x_test shape:\", x_test.shape)  # Expected: (10000, 28, 28)\n",
        "\n",
        "# Properly duplicate test data along batch axis\n",
        "large_input = np.repeat(x_test, 10, axis=0)  # Expands batch size only\n",
        "\n",
        "# Verify new shape\n",
        "print(\"Large input shape after fix:\", large_input.shape)  # Should be (100000, 28, 28)\n",
        "\n",
        "# Measure performance under stress\n",
        "start_time = time.time()\n",
        "model.predict(large_input)  # Now matches model input (batch_size, 28, 28)\n",
        "end_time = time.time()\n",
        "\n",
        "print(f\"Response Time under Stress (Reduced Size): {end_time - start_time:.4f} seconds\")"
      ],
      "outputs": [
        {
          "output_type": "stream",
          "name": "stdout",
          "text": "Original x_test shape: (10000, 28, 28)\nLarge input shape after fix: (100000, 28, 28)\n3125/3125 [==============================] - 3s 1ms/step\b\b\b\b\b\b\b\b\b\b\b\b\b\b\b\b\b\b\b\b\b\b\b\b\b\b\b\b\b\b\b\b\b\b\b\b\b\b\b\b\b\b\b\b\b\b\b\b\b\b\nResponse Time under Stress (Reduced Size): 5.0463 seconds\n"
        }
      ],
      "execution_count": 4,
      "metadata": {
        "gather": {
          "logged": 1749872818228
        }
      }
    },
    {
      "cell_type": "code",
      "source": [
        "from sklearn.model_selection import cross_val_score\n",
        "from sklearn.datasets import make_classification\n",
        "from sklearn.ensemble import RandomForestClassifier\n",
        "\n",
        "# Example data generation for demonstration (replace with actual data)\n",
        "X, y = make_classification(n_samples=1000, n_features=20, random_state=42)\n",
        "agent_model = RandomForestClassifier()  # Replace with your actual model\n",
        "\n",
        "# Perform 5-fold cross-validation\n",
        "cv_scores = cross_val_score(agent_model, X, y, cv=5)\n",
        "\n",
        "# Print the cross-validation scores for each fold\n",
        "print(f'Cross-Validation Scores: {cv_scores}')\n",
        "\n",
        "# Print the mean and standard deviation of the scores\n",
        "print(f'Mean CV Score: {cv_scores.mean():.4f}')\n",
        "print(f'Standard Deviation of CV Scores: {cv_scores.std():.4f}')"
      ],
      "outputs": [
        {
          "output_type": "stream",
          "name": "stdout",
          "text": "Cross-Validation Scores: [0.925 0.9   0.885 0.895 0.85 ]\nMean CV Score: 0.8910\nStandard Deviation of CV Scores: 0.0244\n"
        }
      ],
      "execution_count": 5,
      "metadata": {
        "gather": {
          "logged": 1749872824236
        }
      }
    }
  ],
  "metadata": {
    "kernelspec": {
      "name": "azureml_py38",
      "language": "python",
      "display_name": "Python 3.8 - AzureML"
    },
    "language_info": {
      "name": "python",
      "version": "3.8.20",
      "mimetype": "text/x-python",
      "codemirror_mode": {
        "name": "ipython",
        "version": 3
      },
      "pygments_lexer": "ipython3",
      "nbconvert_exporter": "python",
      "file_extension": ".py"
    },
    "microsoft": {
      "ms_spell_check": {
        "ms_spell_check_language": "en"
      }
    },
    "kernel_info": {
      "name": "azureml_py38"
    },
    "nteract": {
      "version": "nteract-front-end@1.0.0"
    }
  },
  "nbformat": 4,
  "nbformat_minor": 2
}