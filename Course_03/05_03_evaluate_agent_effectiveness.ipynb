{
  "cells": [
    {
      "cell_type": "code",
      "source": [
        "import tensorflow as tf\n",
        "from tensorflow.keras.datasets import mnist\n",
        "\n",
        "# Load dataset\n",
        "(x_train, y_train), (x_test, y_test) = mnist.load_data()\n",
        "x_train, x_test = x_train / 255.0, x_test / 255.0\n",
        "\n",
        "# Build a simple model\n",
        "model = tf.keras.models.Sequential([\n",
        "    tf.keras.layers.Flatten(input_shape=(28, 28)),\n",
        "    tf.keras.layers.Dense(128, activation='relu'),\n",
        "    tf.keras.layers.Dropout(0.2),\n",
        "    tf.keras.layers.Dense(10, activation='softmax')\n",
        "])\n",
        "\n",
        "# Compile the model\n",
        "model.compile(optimizer='adam', loss='sparse_categorical_crossentropy', metrics=['accuracy'])\n",
        "\n",
        "# Train the model\n",
        "model.fit(x_train, y_train, epochs=5, validation_data=(x_test, y_test))"
      ],
      "outputs": [],
      "execution_count": null,
      "metadata": {
        "gather": {
          "logged": 1749868415810
        }
      }
    },
    {
      "cell_type": "code",
      "source": [
        "from sklearn.metrics import accuracy_score, precision_score\n",
        "import numpy as np\n",
        "\n",
        "# Make predictions on the test set\n",
        "y_pred_probs = model.predict(x_test)\n",
        "y_pred = np.argmax(y_pred_probs, axis=1)\n",
        "\n",
        "# Calculate accuracy\n",
        "accuracy = accuracy_score(y_test, y_pred)\n",
        "print(f'Accuracy: {accuracy:.4f}')\n",
        "\n",
        "# Calculate precision (average='weighted' to handle multiple classes)\n",
        "precision = precision_score(y_test, y_pred, average='weighted')\n",
        "print(f'Precision: {precision:.4f}')"
      ],
      "outputs": [],
      "execution_count": null,
      "metadata": {}
    },
    {
      "cell_type": "code",
      "source": [
        "import psutil\n",
        "\n",
        "# Monitor resource usage\n",
        "cpu_usage = psutil.cpu_percent()\n",
        "memory_usage = psutil.virtual_memory().percent\n",
        "\n",
        "# for better results, measure CPU usage while inference is active,\n",
        "# and measure memory usage against a baseline before the model is loaded\n",
        "print(f\"CPU Usage: {cpu_usage}%\")\n",
        "print(f\"Memory Usage: {memory_usage}%\")"
      ],
      "outputs": [],
      "execution_count": null,
      "metadata": {}
    },
    {
      "cell_type": "code",
      "source": [
        "import numpy as np\n",
        "import time\n",
        "\n",
        "# Ensure correct shape before repeating\n",
        "print(\"Original x_test shape:\", x_test.shape)  # Expected: (10000, 28, 28)\n",
        "\n",
        "# Properly duplicate test data along batch axis\n",
        "large_input = np.repeat(x_test, 10, axis=0)  # Expands batch size only\n",
        "\n",
        "# Verify new shape\n",
        "print(\"Large input shape after fix:\", large_input.shape)  # Should be (100000, 28, 28)\n",
        "\n",
        "# Measure performance under stress\n",
        "start_time = time.time()\n",
        "model.predict(large_input)  # Now matches model input (batch_size, 28, 28)\n",
        "end_time = time.time()\n",
        "\n",
        "print(f\"Response Time under Stress (Reduced Size): {end_time - start_time:.4f} seconds\")"
      ],
      "outputs": [],
      "execution_count": null,
      "metadata": {}
    },
    {
      "cell_type": "code",
      "source": [
        "from sklearn.model_selection import cross_val_score\n",
        "from sklearn.datasets import make_classification\n",
        "from sklearn.ensemble import RandomForestClassifier\n",
        "\n",
        "# Example data generation for demonstration (replace with actual data)\n",
        "X, y = make_classification(n_samples=1000, n_features=20, random_state=42)\n",
        "agent_model = RandomForestClassifier()  # Replace with your actual model\n",
        "\n",
        "# Perform 5-fold cross-validation\n",
        "cv_scores = cross_val_score(agent_model, X, y, cv=5)\n",
        "\n",
        "# Print the cross-validation scores for each fold\n",
        "print(f'Cross-Validation Scores: {cv_scores}')\n",
        "\n",
        "# Print the mean and standard deviation of the scores\n",
        "print(f'Mean CV Score: {cv_scores.mean():.4f}')\n",
        "print(f'Standard Deviation of CV Scores: {cv_scores.std():.4f}')"
      ],
      "outputs": [],
      "execution_count": null,
      "metadata": {}
    }
  ],
  "metadata": {
    "kernelspec": {
      "name": "python310-sdkv2",
      "language": "python",
      "display_name": "Python 3.10 - SDK v2"
    },
    "language_info": {
      "name": "python",
      "version": "3.10.16",
      "mimetype": "text/x-python",
      "codemirror_mode": {
        "name": "ipython",
        "version": 3
      },
      "pygments_lexer": "ipython3",
      "nbconvert_exporter": "python",
      "file_extension": ".py"
    },
    "microsoft": {
      "ms_spell_check": {
        "ms_spell_check_language": "en"
      }
    },
    "kernel_info": {
      "name": "python310-sdkv2"
    },
    "nteract": {
      "version": "nteract-front-end@1.0.0"
    }
  },
  "nbformat": 4,
  "nbformat_minor": 2
}