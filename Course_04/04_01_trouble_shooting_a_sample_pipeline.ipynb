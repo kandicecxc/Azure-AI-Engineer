{
  "cells": [
    {
      "cell_type": "code",
      "source": [
        "# Example of accessing logs from Azure ML pipeline\n",
        "from azureml.core import Workspace, Experiment\n",
        "\n",
        "# Connect to your workspace\n",
        "ws = Workspace.from_config()\n",
        "\n",
        "# Create example experiment\n",
        "experiment_name = 'sample_pipeline' #replace with your pipeline name\n",
        "experiment = Experiment(ws, experiment_name)\n",
        "\n",
        "# Access the run details\n",
        "for run in experiment.get_runs():\n",
        "    print(f\"Run ID: {run.id}, Status: {run.status}\")\n",
        "    print(run.get_details())"
      ],
      "outputs": [],
      "execution_count": 1,
      "metadata": {
        "gather": {
          "logged": 1749900241671
        }
      }
    },
    {
      "cell_type": "code",
      "source": [
        "import pandas as pd\n",
        "\n",
        "# Create and save a sample dataset\n",
        "data = {\n",
        "    \"customer_id\": [1, 2, 3, 4, 5],\n",
        "    \"membership_level\": [\"Bronze\", \"Silver\", \"Gold\", \"Silver\", \"Bronze\"]\n",
        "}\n",
        "\n",
        "# Create a DataFrame\n",
        "df = pd.DataFrame(data)\n",
        "\n",
        "# Save the DataFrame to a CSV file\n",
        "csv_filename = \"customer_data.csv\"\n",
        "df.to_csv(csv_filename, index=False)\n",
        "\n",
        "# Load the dataset\n",
        "incoming_data = pd.read_csv(csv_filename)\n",
        "\n",
        "# Validate the data\n",
        "def validate_data(df):\n",
        "    # Check for null values in 'customer_id'\n",
        "    if df['customer_id'].isnull().any():\n",
        "        print(\"Validation Error: 'customer_id' column contains null values.\")\n",
        "    else:\n",
        "        print(\"No null values in 'customer_id' column.\")\n",
        "\n",
        "    # Check that 'membership_level' contains only allowed values\n",
        "    allowed_values = {\"Bronze\", \"Silver\", \"Gold\"}\n",
        "    invalid_values = set(df['membership_level']) - allowed_values\n",
        "    if invalid_values:\n",
        "        print(f\"Validation Error: 'membership_level' contains invalid values: {invalid_values}\")\n",
        "    else:\n",
        "        print(\"All values in 'membership_level' are valid.\")\n",
        "\n",
        "# Run validation\n",
        "validate_data(incoming_data)"
      ],
      "outputs": [
        {
          "output_type": "stream",
          "name": "stdout",
          "text": "No null values in 'customer_id' column.\nAll values in 'membership_level' are valid.\n"
        }
      ],
      "execution_count": 2,
      "metadata": {
        "gather": {
          "logged": 1749900254688
        }
      }
    },
    {
      "cell_type": "code",
      "source": [
        "from sklearn.datasets import load_diabetes\n",
        "from sklearn.linear_model import LinearRegression\n",
        "from sklearn.model_selection import train_test_split\n",
        "from sklearn.metrics import mean_squared_error, r2_score\n",
        "\n",
        "# Load the diabetes dataset\n",
        "diabetes = load_diabetes()\n",
        "X, y = diabetes.data, diabetes.target\n",
        "\n",
        "# Split the data into training and testing sets\n",
        "X_train, X_test, y_train, y_test = train_test_split(X, y, test_size=0.2, random_state=42)\n",
        "\n",
        "# Create a LinearRegression model\n",
        "model = LinearRegression()\n",
        "\n",
        "# Train the model\n",
        "model.fit(X_train, y_train)\n",
        "\n",
        "# Make predictions on the test set\n",
        "y_pred = model.predict(X_test)\n",
        "\n",
        "# Evaluate the model\n",
        "mse = mean_squared_error(y_test, y_pred)\n",
        "r2 = r2_score(y_test, y_pred)\n",
        "\n",
        "# Output the results\n",
        "print(f\"Mean Squared Error: {mse:.2f}\")\n",
        "print(f\"R^2 Score: {r2:.2f}\")"
      ],
      "outputs": [
        {
          "output_type": "stream",
          "name": "stdout",
          "text": "Mean Squared Error: 2900.19\nR^2 Score: 0.45\n"
        }
      ],
      "execution_count": 4,
      "metadata": {
        "gather": {
          "logged": 1749900276730
        }
      }
    },
    {
      "cell_type": "code",
      "source": [
        "# Example of deploying a model to Azure Kubernetes Service (AKS) \n",
        "from azureml.core import Workspace, Model \n",
        "from azureml.core.webservice import AksWebservice, AksCompute \n",
        "from azureml.core.model import InferenceConfig \n",
        " \n",
        "# Connect to your workspace \n",
        "ws = Workspace.from_config() \n",
        " \n",
        "# Load the model \n",
        "model = Model(ws, 'my_model') \n",
        " \n",
        "# Define inference configuration \n",
        "inference_config = InferenceConfig(entry_script='score.py', environment='myenv') \n",
        " \n",
        "# Define deployment configuration \n",
        "aks_config = AksWebservice.deploy_configuration(cpu_cores=1, memory_gb=1) \n",
        " \n",
        "# Deploy the model \n",
        "service = Model.deploy(workspace=ws, name='my-aks-service', models=[model], \n",
        "                   \tinference_config=inference_config, deployment_config=aks_config, \n",
        "                   \tdeployment_target=AksCompute(ws, 'aks-compute')) \n",
        "service.wait_for_deployment (show_output=True)"
      ],
      "outputs": [],
      "execution_count": null,
      "metadata": {}
    },
    {
      "cell_type": "code",
      "source": [
        "import logging\n",
        "\n",
        "# Configure logging settings\n",
        "logging.basicConfig(filename='pipeline_logs.log', level=logging.INFO)\n",
        "\n",
        "# Log pipeline events\n",
        "logging.info(\"Pipeline step completed successfully.\")"
      ],
      "outputs": [],
      "execution_count": null,
      "metadata": {}
    }
  ],
  "metadata": {
    "kernelspec": {
      "name": "python38-azureml",
      "language": "python",
      "display_name": "Python 3.10 - AzureML"
    },
    "language_info": {
      "name": "python",
      "version": "3.8.20",
      "mimetype": "text/x-python",
      "codemirror_mode": {
        "name": "ipython",
        "version": 3
      },
      "pygments_lexer": "ipython3",
      "nbconvert_exporter": "python",
      "file_extension": ".py"
    },
    "microsoft": {
      "ms_spell_check": {
        "ms_spell_check_language": "en"
      }
    },
    "kernel_info": {
      "name": "python38-azureml"
    },
    "nteract": {
      "version": "nteract-front-end@1.0.0"
    }
  },
  "nbformat": 4,
  "nbformat_minor": 2
}